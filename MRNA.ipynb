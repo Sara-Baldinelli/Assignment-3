{
 "cells": [
  {
   "cell_type": "code",
   "execution_count": 123,
   "id": "cdbf076f",
   "metadata": {},
   "outputs": [],
   "source": [
    "with open('rosalind_mrna.txt', 'r') as f:                         \n",
    "    seq = f.read().replace('\\n', '')\n",
    "\n",
    "def MRNA():\n",
    "    # from the RNA CODON TABLE we see how many codons respond to\n",
    "    # each amino acid, excluding the 3 stop codons\n",
    "    num_codons = {\n",
    "        'F': 2, 'L': 6, 'S': 6, 'Y': 2, 'C': 2, 'W': 1, 'P': 4, 'H': 2, 'Q': 2, 'R': 6,\n",
    "        'I': 3, 'M': 1, 'T': 4, 'N': 2, 'K': 2, 'V': 4, 'A': 4, 'D': 2, 'E': 2, 'G': 4\n",
    "    }\n",
    "    \n",
    "    possibilities = 1\n",
    "\n",
    "    for aminoacid in seq:\n",
    "        possibilities = (possibilities * num_codons[aminoacid]) % 1000000 \n",
    "    # Since there are 3 possible stop codons we have to multiply the result by 3\n",
    "    # then we compute the modulo again\n",
    "    numb_RNA = (possibilities * 3) % 1000000  \n",
    "    print(numb_RNA) "
   ]
  },
  {
   "cell_type": "code",
   "execution_count": 124,
   "id": "493ceeab",
   "metadata": {},
   "outputs": [
    {
     "name": "stdout",
     "output_type": "stream",
     "text": [
      "5632\n"
     ]
    }
   ],
   "source": [
    "MRNA()"
   ]
  }
 ],
 "metadata": {
  "kernelspec": {
   "display_name": "Python 3",
   "language": "python",
   "name": "python3"
  },
  "language_info": {
   "codemirror_mode": {
    "name": "ipython",
    "version": 3
   },
   "file_extension": ".py",
   "mimetype": "text/x-python",
   "name": "python",
   "nbconvert_exporter": "python",
   "pygments_lexer": "ipython3",
   "version": "3.8.8"
  }
 },
 "nbformat": 4,
 "nbformat_minor": 5
}
