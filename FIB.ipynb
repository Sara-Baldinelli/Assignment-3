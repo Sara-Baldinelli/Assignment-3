{
 "cells": [
  {
   "cell_type": "markdown",
   "id": "fde1a12b",
   "metadata": {},
   "source": [
    "# Rabbits and Recurrence Relations\n",
    "### Sara Baldinelli, 1928738 "
   ]
  },
  {
   "cell_type": "code",
   "execution_count": 31,
   "id": "9a83bbae",
   "metadata": {},
   "outputs": [],
   "source": [
    "def fib(n, k):\n",
    "    F_1 = 1\n",
    "    F_2 = 1\n",
    "    for i in range(n-2):\n",
    "        F_n  = k*F_1 + F_2\n",
    "        F_1 = F_2\n",
    "        F_2 = F_n\n",
    "    print(F_2)"
   ]
  },
  {
   "cell_type": "code",
   "execution_count": 32,
   "id": "0e2320a2",
   "metadata": {},
   "outputs": [],
   "source": [
    "with open('rosalind_fib.txt', 'r') as f:\n",
    "    f = f.readline().split(' ')\n",
    "    n = int(f[0])\n",
    "    k = int(f[1])"
   ]
  },
  {
   "cell_type": "code",
   "execution_count": 33,
   "id": "e05367d9",
   "metadata": {},
   "outputs": [
    {
     "name": "stdout",
     "output_type": "stream",
     "text": [
      "662854323131\n"
     ]
    }
   ],
   "source": [
    "fib(n, k)"
   ]
  }
 ],
 "metadata": {
  "kernelspec": {
   "display_name": "Python 3",
   "language": "python",
   "name": "python3"
  },
  "language_info": {
   "codemirror_mode": {
    "name": "ipython",
    "version": 3
   },
   "file_extension": ".py",
   "mimetype": "text/x-python",
   "name": "python",
   "nbconvert_exporter": "python",
   "pygments_lexer": "ipython3",
   "version": "3.8.8"
  }
 },
 "nbformat": 4,
 "nbformat_minor": 5
}
