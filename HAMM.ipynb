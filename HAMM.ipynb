{
 "cells": [
  {
   "cell_type": "markdown",
   "id": "d5194e5f",
   "metadata": {},
   "source": [
    "# Counting Point Mutations\n",
    "### Sara Baldinelli, 1928738 "
   ]
  },
  {
   "cell_type": "code",
   "execution_count": 36,
   "id": "b6a4fc9b",
   "metadata": {},
   "outputs": [],
   "source": [
    "def HAMM(s, t):\n",
    "    d_H = 0\n",
    "    for nucleotide in range(len(s)):\n",
    "        if s[nucleotide] != t[nucleotide]:\n",
    "            d_H += 1\n",
    "    return d_H"
   ]
  },
  {
   "cell_type": "code",
   "execution_count": 37,
   "id": "ace846d3",
   "metadata": {},
   "outputs": [
    {
     "data": {
      "text/plain": [
       "488"
      ]
     },
     "execution_count": 37,
     "metadata": {},
     "output_type": "execute_result"
    }
   ],
   "source": [
    "with open('rosalind_hamm.txt', 'r') as f:\n",
    "    f = f.read().split('\\n')\n",
    "    s, t = f[0], f[1]\n",
    "HAMM(s, t)"
   ]
  }
 ],
 "metadata": {
  "kernelspec": {
   "display_name": "Python 3",
   "language": "python",
   "name": "python3"
  },
  "language_info": {
   "codemirror_mode": {
    "name": "ipython",
    "version": 3
   },
   "file_extension": ".py",
   "mimetype": "text/x-python",
   "name": "python",
   "nbconvert_exporter": "python",
   "pygments_lexer": "ipython3",
   "version": "3.8.8"
  }
 },
 "nbformat": 4,
 "nbformat_minor": 5
}
