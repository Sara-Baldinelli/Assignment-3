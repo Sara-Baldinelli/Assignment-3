{
 "cells": [
  {
   "cell_type": "markdown",
   "id": "befc7912",
   "metadata": {},
   "source": [
    "# Mortal Fibonacci Rabbits\n",
    "### Sara Baldinelli, 1928738 "
   ]
  },
  {
   "cell_type": "code",
   "execution_count": 66,
   "id": "391f55ae",
   "metadata": {},
   "outputs": [],
   "source": [
    "with open('rosalind_fibd.txt', 'r') as f:\n",
    "    f = f.readline().split(' ')\n",
    "    n = int(f[0])\n",
    "    m = int(f[1])"
   ]
  },
  {
   "cell_type": "code",
   "execution_count": 67,
   "id": "e7c654b0",
   "metadata": {},
   "outputs": [
    {
     "name": "stdout",
     "output_type": "stream",
     "text": [
      "61190227951392303\n"
     ]
    }
   ],
   "source": [
    "def FIBD(n, m):\n",
    "    F = [1, 1, 1]\n",
    "    for i in range(3, n + 1):\n",
    "        F.append(F[i-1] + F[i-2])\n",
    "        if i > m:\n",
    "            F[i] -= F[i - m - 1]\n",
    "    print(F[n])\n",
    "        \n",
    "FIBD(n, m)"
   ]
  }
 ],
 "metadata": {
  "kernelspec": {
   "display_name": "Python 3",
   "language": "python",
   "name": "python3"
  },
  "language_info": {
   "codemirror_mode": {
    "name": "ipython",
    "version": 3
   },
   "file_extension": ".py",
   "mimetype": "text/x-python",
   "name": "python",
   "nbconvert_exporter": "python",
   "pygments_lexer": "ipython3",
   "version": "3.8.8"
  }
 },
 "nbformat": 4,
 "nbformat_minor": 5
}
