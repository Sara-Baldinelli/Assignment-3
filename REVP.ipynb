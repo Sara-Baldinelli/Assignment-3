{
 "cells": [
  {
   "cell_type": "markdown",
   "id": "8efc1a05",
   "metadata": {},
   "source": [
    "# Locating Restriction Sites\n",
    "### Sara Baldinelli, 1928738 "
   ]
  },
  {
   "cell_type": "code",
   "execution_count": 19,
   "id": "91be44f2",
   "metadata": {},
   "outputs": [],
   "source": [
    "with open('rosalind_revp.txt', 'r') as file:\n",
    "    f = file.read()\n",
    "    lst = f.split('\\n', 1)\n",
    "    seq = list(lst[1].replace('\\n', ''))"
   ]
  },
  {
   "cell_type": "code",
   "execution_count": 20,
   "id": "a3853a0a",
   "metadata": {},
   "outputs": [],
   "source": [
    "def REVP(seq):\n",
    "    nucleotides = [['A', 'T'], ['C', 'G']]\n",
    "    for x in range(len(seq)):\n",
    "        for y in range(4, 13, 2):\n",
    "            if x+y <= len(seq):\n",
    "                palindrome = seq[x : x+y]\n",
    "                for z in range(y//2):\n",
    "                    p = True\n",
    "                    if sorted([palindrome[z], palindrome[y-z-1]]) not in nucleotides:\n",
    "                        p = False\n",
    "                        break\n",
    "                if p == True:\n",
    "                    print(x+1, y) "
   ]
  },
  {
   "cell_type": "code",
   "execution_count": 21,
   "id": "6bc375bd",
   "metadata": {},
   "outputs": [
    {
     "name": "stdout",
     "output_type": "stream",
     "text": [
      "1 4\n",
      "11 4\n",
      "13 6\n",
      "14 4\n",
      "38 4\n",
      "48 6\n",
      "49 4\n",
      "62 4\n",
      "79 4\n",
      "95 4\n",
      "96 4\n",
      "100 4\n",
      "101 4\n",
      "113 4\n",
      "126 4\n",
      "132 4\n",
      "136 4\n",
      "145 4\n",
      "170 6\n",
      "171 4\n",
      "177 6\n",
      "178 4\n",
      "183 4\n",
      "195 4\n",
      "206 6\n",
      "207 4\n",
      "229 4\n",
      "233 4\n",
      "237 4\n",
      "280 6\n",
      "281 4\n",
      "339 6\n",
      "340 4\n",
      "350 6\n",
      "351 4\n",
      "358 4\n",
      "361 4\n",
      "369 4\n",
      "386 4\n",
      "392 6\n",
      "393 4\n",
      "406 4\n",
      "421 12\n",
      "422 10\n",
      "423 8\n",
      "424 6\n",
      "425 4\n",
      "456 4\n",
      "457 4\n",
      "466 4\n",
      "474 4\n",
      "480 4\n",
      "482 4\n",
      "499 4\n",
      "529 4\n",
      "529 6\n",
      "530 4\n",
      "531 4\n",
      "563 4\n",
      "576 4\n",
      "624 4\n",
      "624 6\n",
      "625 4\n",
      "626 4\n",
      "630 4\n",
      "668 4\n",
      "669 4\n",
      "673 4\n",
      "675 6\n",
      "676 4\n",
      "707 4\n",
      "713 6\n",
      "714 4\n",
      "718 4\n",
      "725 4\n",
      "737 8\n",
      "738 6\n",
      "739 4\n",
      "761 4\n",
      "773 4\n",
      "783 6\n",
      "784 4\n",
      "826 8\n",
      "827 6\n",
      "828 4\n",
      "832 4\n",
      "848 4\n",
      "849 4\n"
     ]
    }
   ],
   "source": [
    "REVP(seq)"
   ]
  }
 ],
 "metadata": {
  "kernelspec": {
   "display_name": "Python 3",
   "language": "python",
   "name": "python3"
  },
  "language_info": {
   "codemirror_mode": {
    "name": "ipython",
    "version": 3
   },
   "file_extension": ".py",
   "mimetype": "text/x-python",
   "name": "python",
   "nbconvert_exporter": "python",
   "pygments_lexer": "ipython3",
   "version": "3.8.8"
  }
 },
 "nbformat": 4,
 "nbformat_minor": 5
}
