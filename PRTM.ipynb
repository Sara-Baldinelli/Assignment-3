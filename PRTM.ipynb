{
 "cells": [
  {
   "cell_type": "markdown",
   "id": "6a60cf23",
   "metadata": {},
   "source": [
    "# Calculating Protein Mass\n",
    "### Sara Baldinelli, 1928738 "
   ]
  },
  {
   "cell_type": "code",
   "execution_count": 10,
   "id": "0a5efed9",
   "metadata": {},
   "outputs": [],
   "source": [
    "with open('rosalind_prtm.txt', 'r') as f:                         \n",
    "    P_string = f.read().replace('\\n', '')\n",
    "\n",
    "def PRTM():\n",
    "    monoisotopic_masses = {\n",
    "        'A' : 71.03711,\n",
    "        'C' : 103.00919,\n",
    "        'D' : 115.02694,\n",
    "        'E' : 129.04259,\n",
    "        'F' : 147.06841,\n",
    "        'G' : 57.02146,\n",
    "        'H' : 137.05891,\n",
    "        'I' : 113.08406,\n",
    "        'K' : 128.09496,\n",
    "        'L' : 113.08406,\n",
    "        'M' : 131.04049,\n",
    "        'N' : 114.04293,\n",
    "        'P' : 97.05276,\n",
    "        'Q' : 128.05858,\n",
    "        'R' : 156.10111,\n",
    "        'S' : 87.03203,\n",
    "        'T' : 101.04768,\n",
    "        'V' : 99.06841,\n",
    "        'W' : 186.07931,\n",
    "        'Y' : 163.06333 \n",
    "    }\n",
    "    \n",
    "    P_weight = 0\n",
    "    \n",
    "    for i in P_string:\n",
    "        P_weight += monoisotopic_masses[i]\n",
    "    return P_weight\n",
    "        \n"
   ]
  },
  {
   "cell_type": "code",
   "execution_count": 11,
   "id": "5b3585e8",
   "metadata": {},
   "outputs": [
    {
     "data": {
      "text/plain": [
       "115160.03208000051"
      ]
     },
     "execution_count": 11,
     "metadata": {},
     "output_type": "execute_result"
    }
   ],
   "source": [
    "PRTM()"
   ]
  }
 ],
 "metadata": {
  "kernelspec": {
   "display_name": "Python 3",
   "language": "python",
   "name": "python3"
  },
  "language_info": {
   "codemirror_mode": {
    "name": "ipython",
    "version": 3
   },
   "file_extension": ".py",
   "mimetype": "text/x-python",
   "name": "python",
   "nbconvert_exporter": "python",
   "pygments_lexer": "ipython3",
   "version": "3.8.8"
  }
 },
 "nbformat": 4,
 "nbformat_minor": 5
}
