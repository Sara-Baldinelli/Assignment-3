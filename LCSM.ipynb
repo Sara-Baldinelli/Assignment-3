{
 "cells": [
  {
   "cell_type": "markdown",
   "id": "5c5db056",
   "metadata": {},
   "source": [
    "# Finding a Shared Motif\n",
    "### Sara Baldinelli, 1928738 "
   ]
  },
  {
   "cell_type": "code",
   "execution_count": 1,
   "id": "79bab6ed",
   "metadata": {},
   "outputs": [],
   "source": [
    "with open('rosalind_lcsm.txt', 'r') as file:\n",
    "    k = []   # k = DNA strings\n",
    "    lst = file.read().split('>')[1:] \n",
    "    \n",
    "    for i in range(len(lst)):\n",
    "        new = lst[i].split('\\n', 1)\n",
    "        seq = new[1].replace('\\n', '')\n",
    "        k.append(seq)"
   ]
  },
  {
   "cell_type": "code",
   "execution_count": 2,
   "id": "e3218f01",
   "metadata": {
    "scrolled": true
   },
   "outputs": [],
   "source": [
    "def LCSM():\n",
    "    longest_common_substring = ''\n",
    "    shortest_string = min(k, key=len)\n",
    "    \n",
    "    for i in range(len(shortest_string)):\n",
    "        for j in range(i, len(shortest_string)+1):\n",
    "            poss_string = shortest_string[i:j]\n",
    "            if len(poss_string) > len(longest_common_substring) and all(poss_string in string for string in k):\n",
    "                longest_common_substring = poss_string\n",
    "                \n",
    "    print(longest_common_substring)"
   ]
  },
  {
   "cell_type": "code",
   "execution_count": 3,
   "id": "f267e8fe",
   "metadata": {},
   "outputs": [
    {
     "name": "stdout",
     "output_type": "stream",
     "text": [
      "AACGGCTGCAATATCACTGCCCAGCAAATTCACGTAAGGACCCTCCAATAGTAGTGCCTCGCAGGATGACGAACCAGAACAAGGTGTGCACGTACCCTATACAAACGATCACTAAAAGCGACGTTCGCTGCTAACCATCACAATGCTCCATTAACATAACTTGCGCACGTA\n"
     ]
    }
   ],
   "source": [
    "LCSM()"
   ]
  }
 ],
 "metadata": {
  "kernelspec": {
   "display_name": "Python 3",
   "language": "python",
   "name": "python3"
  },
  "language_info": {
   "codemirror_mode": {
    "name": "ipython",
    "version": 3
   },
   "file_extension": ".py",
   "mimetype": "text/x-python",
   "name": "python",
   "nbconvert_exporter": "python",
   "pygments_lexer": "ipython3",
   "version": "3.8.8"
  }
 },
 "nbformat": 4,
 "nbformat_minor": 5
}
